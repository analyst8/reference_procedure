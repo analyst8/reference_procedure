{
 "cells": [
  {
   "cell_type": "markdown",
   "metadata": {},
   "source": [
    "# NAME OF PROJECT\n",
    "\n",
    "#### S Sexton\n",
    "#### May 5, 2020\n",
    "\n",
    "### Table of Contents\n",
    "\n",
    "* [1.1 Overview](#overview)\n",
    "    * [1.1.1 GitHub](#github)\n",
    "    * [1.1.2 Project Goal](#github)\n",
    "    * [1.1.3 Background Information](#github)\n",
    "    * [1.1.4 Questions to Ask](#github)\n",
    "* [1.2 Load Libraries](#libraries)\n",
    "    * [1.2.1 Determine Libraries Needed](#library)\n",
    "    * [1.2.2 Install Packages, if necessary](#install)\n",
    "* [1.3 Load Data](#acquire)\n",
    "    * [1.3.1 Obtain Data](#data)\n",
    "        * [1.3.1.1 Scraping Website](#scrape)\n",
    "        * [1.3.1.2 SQL query](#sql)\n",
    "        * [1.3.1.3 Use Given Data](#given)\n",
    "    * [1.3.2 Load Dataset](#dataset)\n",
    "* [2.1 Review Data](#format)\n",
    "    * [2.1.1 Combine Data](#data)\n",
    "    * [2.1.2 Format](#format)\n",
    "    * [2.1.3 Variable Type](#type)\n",
    "    * [2.1.4 Get Basic Statistics](#statistics)\n",
    "* [2.2 Address Missing Data](#missing)\n",
    "    * [2.2.1 Determine Missing Data](#determine)\n",
    "    * [2.2.2 Decide What to do With Missing Data](#decide)\n",
    "* [2.3 Outliers & Cardinality & Rare](#outliers)\n",
    "    * [2.3.1 Identify Outliers](#identify)\n",
    "        * [2.3.1.1 Decide if OR Which Ones Should be Addressed](#address)\n",
    "        * [2.3.1.2 Process Outliers](#process)\n",
    "    * [2.3.2 Cardinality](#cardinality)\n",
    "    * [2.3.3 Rare Labels](#rare)  \n",
    "* [2.4 Variable Transformation](#transformation)\n",
    "    * [2.4.1 Categorical Encoding](#categorical)\n",
    "    * [2.4.2 Gaussian Transformation](#gaussian)\n",
    "    * [2.4.3 Discretisation](#discretisation)\n",
    "    * [2.4.4 Feature Scaling](#feature)\n",
    "    * [2.4.5 Engineering Mixed Variables](#mixed)\n",
    "* [3.1 Visualizations](#visualizations)\n",
    "* [3.2 Modeling](#modeling)\n"
   ]
  },
  {
   "cell_type": "code",
   "execution_count": null,
   "metadata": {},
   "outputs": [],
   "source": [
    "# NOTE:    \n",
    "# must add and anchor to each title in table of contents - <a class=\"anchor\" id=\"project_goal\"></a>"
   ]
  },
  {
   "cell_type": "markdown",
   "metadata": {},
   "source": [
    "# 1.1 Overview<a class=\"anchor\" id=\"overview\"></a>"
   ]
  }
 ],
 "metadata": {
  "kernelspec": {
   "display_name": "Python 3",
   "language": "python",
   "name": "python3"
  },
  "language_info": {
   "codemirror_mode": {
    "name": "ipython",
    "version": 3
   },
   "file_extension": ".py",
   "mimetype": "text/x-python",
   "name": "python",
   "nbconvert_exporter": "python",
   "pygments_lexer": "ipython3",
   "version": "3.7.4"
  }
 },
 "nbformat": 4,
 "nbformat_minor": 2
}
