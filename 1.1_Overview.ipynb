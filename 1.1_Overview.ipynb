{
 "cells": [
  {
   "cell_type": "markdown",
   "metadata": {},
   "source": [
    "# Overview\n",
    "\n",
    "This includes:\n",
    "    - daily upload to github\n",
    "    - project goal\n",
    "    - background information\n",
    "    - questions to ask"
   ]
  },
  {
   "cell_type": "markdown",
   "metadata": {},
   "source": [
    "## 1. Daily upload to github\n",
    "\n",
    "Upload to github everyday\n",
    "\n",
    "1. create repository\n",
    "2. make public\n",
    "3. initialize readme\n",
    "4. upload file\n",
    "5. drag and drop in file\n",
    "6. commit changes"
   ]
  },
  {
   "cell_type": "markdown",
   "metadata": {},
   "source": [
    "## 2. Project Goal\n",
    "- Create a summary of what the project goal is"
   ]
  },
  {
   "cell_type": "markdown",
   "metadata": {},
   "source": [
    "## 3. Background Information\n",
    "\n",
    "- Understand the problem\n",
    "- List useful information that contributes to the understanding of the problem"
   ]
  },
  {
   "cell_type": "markdown",
   "metadata": {},
   "source": [
    "## 4. Questions to Ask\n",
    "\n",
    "##### Put a list of questions here that see in other projects (eg. datacamp, kaggle, etc.)"
   ]
  },
  {
   "cell_type": "markdown",
   "metadata": {},
   "source": [
    "KAGGLE PROJECTS:\n",
    "- Look at the description to get an idea of what you will need to do.\n",
    "- Look through the discussion section to get an idea of what the questions are to be answered.\n",
    "- The data section will explain what the headers mean.\n",
    "- Try to understand the problems by looking at web videos, researching the web.\n",
    "\n",
    "NON-KAGGLE PROJECTS:\n",
    "- Must get a clear idea of what the question is.\n",
    "- This may include interviewing who you are doing the project for to find out what they REALLY want.\n",
    "- What dataset do I need to investigate this quesion. What dataset do I have? Do I need to add to the dataset?"
   ]
  },
  {
   "cell_type": "code",
   "execution_count": null,
   "metadata": {},
   "outputs": [],
   "source": []
  }
 ],
 "metadata": {
  "kernelspec": {
   "display_name": "Python 3",
   "language": "python",
   "name": "python3"
  },
  "language_info": {
   "codemirror_mode": {
    "name": "ipython",
    "version": 3
   },
   "file_extension": ".py",
   "mimetype": "text/x-python",
   "name": "python",
   "nbconvert_exporter": "python",
   "pygments_lexer": "ipython3",
   "version": "3.7.4"
  }
 },
 "nbformat": 4,
 "nbformat_minor": 2
}
